{
 "cells": [
  {
   "cell_type": "markdown",
   "metadata": {},
   "source": [
    "# Data Science Tools 1 - Final Project\n",
    "\n",
    "### Data analysis"
   ]
  },
  {
   "cell_type": "markdown",
   "metadata": {},
   "source": []
  },
  {
   "cell_type": "code",
   "execution_count": null,
   "metadata": {},
   "outputs": [],
   "source": [
    "!pip install requests"
   ]
  },
  {
   "cell_type": "code",
   "execution_count": null,
   "metadata": {},
   "outputs": [],
   "source": [
    "import requests\n",
    "import pandas as pd\n",
    "import zipfile\n",
    "import os, sys\n"
   ]
  },
  {
   "cell_type": "code",
   "execution_count": null,
   "metadata": {},
   "outputs": [],
   "source": [
    "# Download and extract ZIP files from EPA's Air Quality System (AQS) database\n",
    "# This script downloads daily AQI data by county for the years 2019 to 2024 from the EPA's AQS database.\n",
    " \n",
    "# Define paths\n",
    "data_dir = '../data/'\n",
    "data_dir_daily_aqi = '../data/daily_aqi_by_county'  # Directory to store the downloaded files\n",
    "\n",
    "# Make sure the directory exists\n",
    "os.makedirs(data_dir_daily_aqi, exist_ok=True)\n",
    "\n",
    "# List of direct download URLs for the AQI ZIP files\n",
    "zip_urls = [\n",
    "    'https://aqs.epa.gov/aqsweb/airdata/daily_aqi_by_county_2019.zip',\n",
    "    'https://aqs.epa.gov/aqsweb/airdata/daily_aqi_by_county_2020.zip',\n",
    "    'https://aqs.epa.gov/aqsweb/airdata/daily_aqi_by_county_2021.zip',\n",
    "    'https://aqs.epa.gov/aqsweb/airdata/daily_aqi_by_county_2022.zip',\n",
    "    'https://aqs.epa.gov/aqsweb/airdata/daily_aqi_by_county_2023.zip',\n",
    "    'https://aqs.epa.gov/aqsweb/airdata/daily_aqi_by_county_2024.zip'\n",
    "]\n",
    "\n",
    "# Download and extract ZIP files\n",
    "for idx, url in enumerate(zip_urls, start=1):\n",
    "    zip_name = f'daily_aqi_by_county_{2018 + idx}.zip'  # Naming the file based on the year\n",
    "    zip_path = os.path.join(data_dir_daily_aqi, zip_name)\n",
    "\n",
    "    # Download the ZIP file\n",
    "    try:\n",
    "        response = requests.get(url)\n",
    "        response.raise_for_status()  # Check if the download was successful\n",
    "        with open(zip_path, 'wb') as file:\n",
    "            file.write(response.content)\n",
    "        print(f'Downloaded: {zip_path}')\n",
    "    except requests.RequestException as e:\n",
    "        print(f\"Failed to download {url}: {e}\")\n",
    "        continue\n",
    "\n",
    "    # Extract the ZIP file\n",
    "    try:\n",
    "        with zipfile.ZipFile(zip_path, 'r') as zip_ref:\n",
    "            zip_ref.extractall(data_dir_daily_aqi)  # Extract to the same folder\n",
    "        print(f'Extracted: {zip_path}')\n",
    "    except zipfile.BadZipFile:\n",
    "        print(f\"Error: {zip_path} is not a valid ZIP file.\")\n",
    "    except Exception as e:\n",
    "        print(f\"An error occurred while extracting {zip_path}: {e}\")\n",
    "\n",
    "print(\"All files processed.\")"
   ]
  },
  {
   "cell_type": "code",
   "execution_count": null,
   "metadata": {},
   "outputs": [],
   "source": [
    "# List all CSV files in the directory\n",
    "csv_files = [f for f in os.listdir(data_dir_daily_aqi) if f.endswith('.csv')]\n",
    "print(\"CSV files in the directory:\")\n",
    "for csv_file in csv_files:\n",
    "    print(csv_file)\n",
    "\n",
    "# Delete the downloaded ZIP files after extraction\n",
    "zip_files = os.listdir(data_dir_daily_aqi)\n",
    "for file in zip_files:\n",
    "    if file.endswith('.zip'):\n",
    "        os.remove(os.path.join(data_dir_daily_aqi, file))\n",
    "        print(f'Deleted: {file}')\n",
    "\n",
    "# Read and concatenate all CSV files into a single DataFrame\n",
    "df_list = []\n",
    "for csv_file in csv_files:\n",
    "    file_path = os.path.join(data_dir_daily_aqi, csv_file)\n",
    "    try:\n",
    "        df = pd.read_csv(file_path)\n",
    "        df_list.append(df)\n",
    "        print(f'Read {csv_file} with {len(df)} rows.')\n",
    "    except Exception as e:\n",
    "        print(f\"Error reading {csv_file}: {e}\")"
   ]
  },
  {
   "cell_type": "code",
   "execution_count": null,
   "metadata": {},
   "outputs": [],
   "source": [
    "# List all CSV files in the directory and show the first 10 rows\n",
    "for csv_file in csv_files:\n",
    "    csv_path = os.path.join(data_dir_daily_aqi, csv_file)\n",
    "    if os.path.exists(csv_path):    \n",
    "        df = pd.read_csv(csv_path)\n",
    "        print(csv_file)\n",
    "        print(f\"Number of rows: {len(df)}\")\n",
    "        print(f\"Number of columns: {len(df.columns)}\")\n",
    "        print(f\"Columns: {df.columns.tolist()}\")\n",
    "        print(df.sample(5).to_string(index=False, max_cols=None))  # Display all columns in one line\n",
    "        print(\"\\n\" + \"=\"*40)"
   ]
  },
  {
   "cell_type": "code",
   "execution_count": 43,
   "metadata": {},
   "outputs": [
    {
     "name": "stdout",
     "output_type": "stream",
     "text": [
      "State Name county Name  State Code  County Code       Date  AQI Category Defining Parameter Defining Site  Number of Sites Reporting Year\n",
      " Wisconsin      Forest          55           41 2023-06-02   58 Moderate              Ozone   55-041-0007                          1 2023\n",
      "  Colorado     Larimer           8           69 2021-03-07   52 Moderate              PM2.5   08-069-0009                          4 2021\n",
      "  Kentucky        Boyd          21           19 2022-10-23   63 Moderate              PM2.5   21-019-0017                          1 2022\n",
      "   Arizona      Navajo           4           17 2023-07-03   48     Good              Ozone   04-017-0119                          2 2023\n",
      "  New York    Onondaga          36           67 2021-04-01   32     Good              Ozone   36-067-1015                          1 2021\n",
      "  Illinois       Adams          17            1 2020-05-16   41     Good              Ozone   17-001-0007                          1 2020\n",
      "\n",
      "Number of unique states: 54\n",
      "\n",
      "Number of records by year: Year\n",
      "2019    326046\n",
      "2020    325138\n",
      "2021    326540\n",
      "2022    324422\n",
      "2023    325393\n",
      "2024    206919\n",
      "Name: count, dtype: int64\n",
      "\n",
      "Number of records by Parameter: Defining Parameter\n",
      "CO         3589\n",
      "NO2       19533\n",
      "Ozone    903511\n",
      "PM10      54844\n",
      "PM2.5    852981\n",
      "Name: count, dtype: int64\n"
     ]
    }
   ],
   "source": [
    "# Concatenate the 6 CSV files into a single DataFrame: include all US counties\n",
    "# First, add a 'Year' column to each DataFrame based on the filename\n",
    "\n",
    "dfs = []\n",
    "for csv_file in csv_files:\n",
    "    csv_path = os.path.join(data_dir_daily_aqi, csv_file)\n",
    "    if os.path.exists(csv_path):\n",
    "        df = pd.read_csv(csv_path)\n",
    "        \n",
    "        # Extract the year from the last 4 digits of the filename\n",
    "        year = csv_file[-8:-4]  # Assumes filename ends like 'daily_aqi_by_county_2019.csv'\n",
    "        \n",
    "        # Add the 'Year' column to the DataFrame\n",
    "        df['Year'] = year\n",
    "        dfs.append(df)\n",
    "\n",
    "# Concatenate all DataFrames into a single DataFrame\n",
    "concatenated_df = pd.concat(dfs, ignore_index=True)\n",
    "\n",
    "# Display the first 10 rows of the concatenated DataFrame\n",
    "print(concatenated_df.sample(6).to_string(index=False, max_cols=None))  # Display all columns in one line\n",
    "\n",
    "# Save the concatenated DataFrame to a CSV file\n",
    "output_csv_path = os.path.join(data_dir_daily_aqi, 'a1.US_daily_aqi_by_county_2019_24.csv')\n",
    "concatenated_df.to_csv(output_csv_path, index=False)\n",
    "\n",
    "# Count the number of unique states\n",
    "unique_states = concatenated_df['State Name'].nunique()\n",
    "print(f\"\\nNumber of unique states: {unique_states}\")\n",
    "\n",
    "# Count the number of records by Year\n",
    "year_counts = concatenated_df['Year'].value_counts().sort_index()\n",
    "print(\"\\nNumber of records by year:\", year_counts)\n",
    "\n",
    "# List the number of records by Parameter\n",
    "parameter_counts = concatenated_df['Defining Parameter'].value_counts().sort_index()\n",
    "print(\"\\nNumber of records by Parameter:\", parameter_counts)\n"
   ]
  },
  {
   "cell_type": "code",
   "execution_count": 45,
   "metadata": {},
   "outputs": [
    {
     "name": "stdout",
     "output_type": "stream",
     "text": [
      "\n",
      "Number of records by Parameter: Defining Parameter\n",
      "Ozone    903511\n",
      "PM2.5    852981\n",
      "PM10      54844\n",
      "NO2       19533\n",
      "CO         3589\n",
      "Name: count, dtype: int64\n"
     ]
    },
    {
     "name": "stderr",
     "output_type": "stream",
     "text": [
      "C:\\Users\\lm\\AppData\\Local\\Temp\\ipykernel_13232\\115145737.py:21: FutureWarning: \n",
      "\n",
      "Passing `palette` without assigning `hue` is deprecated and will be removed in v0.14.0. Assign the `x` variable to `hue` and set `legend=False` for the same effect.\n",
      "\n",
      "  sns.barplot(x='Parameter', y='Count', data=plot_data, palette='viridis')\n"
     ]
    },
    {
     "data": {
      "image/png": "[encoded data removed]",
      "text/plain": [
       "<Figure size 1000x600 with 1 Axes>"
      ]
     },
     "metadata": {},
     "output_type": "display_data"
    }
   ],
   "source": [
    "import matplotlib.pyplot as plt\n",
    "import seaborn as sns\n",
    "\n",
    "# Calculate the total number of records\n",
    "total_records = concatenated_df.shape[0]\n",
    "\n",
    "# Calculate the number of records for each parameter and the percentage\n",
    "parameter_counts = concatenated_df['Defining Parameter'].dropna().value_counts()\n",
    "print(\"\\nNumber of records by Parameter:\", parameter_counts)\n",
    "parameter_percentage = (parameter_counts / total_records) * 100\n",
    "\n",
    "# Prepare data for plotting\n",
    "plot_data = pd.DataFrame({\n",
    "    'Parameter': parameter_counts.index,\n",
    "    'Count': parameter_counts.values,\n",
    "    'Percentage': parameter_percentage.values\n",
    "})\n",
    "\n",
    "# Create the plot\n",
    "plt.figure(figsize=(10, 6))\n",
    "sns.barplot(x='Parameter', y='Count', data=plot_data, palette='viridis')\n",
    "\n",
    "# Add the percentage labels on top of the bars\n",
    "for i, row in plot_data.iterrows():\n",
    "    plt.text(i, row['Count'] + 10000, f\"{row['Percentage']:.2f}%\", ha='center', color='black')\n",
    "\n",
    "# Add total records as a title and format plot\n",
    "plt.title(f\"Proportion of Records by Parameter (Total Records: {total_records:,})\", fontsize=14)\n",
    "plt.xlabel('Parameter', fontsize=12)\n",
    "plt.ylabel('Number of Records', fontsize=12)\n",
    "\n",
    "# Display the plot\n",
    "plt.xticks(rotation=45)\n",
    "plt.tight_layout()\n",
    "plt.show()\n"
   ]
  },
  {
   "cell_type": "code",
   "execution_count": null,
   "metadata": {},
   "outputs": [],
   "source": [
    "# Extract the data only for Colorado (CO)"
   ]
  }
 ],
 "metadata": {
  "kernelspec": {
   "display_name": "Python 3",
   "language": "python",
   "name": "python3"
  },
  "language_info": {
   "codemirror_mode": {
    "name": "ipython",
    "version": 3
   },
   "file_extension": ".py",
   "mimetype": "text/x-python",
   "name": "python",
   "nbconvert_exporter": "python",
   "pygments_lexer": "ipython3",
   "version": "3.11.5"
  }
 },
 "nbformat": 4,
 "nbformat_minor": 2
}
