{
 "cells": [
  {
   "cell_type": "markdown",
   "id": "8946aaab412223f1",
   "metadata": {},
   "source": [
    "# Wildfire Impacts on Air Quality in Colorado\n",
    "\n",
    "Wildfires in Colorado burn over 70,000 acres of land per year, and have a noticeable impact on air quality, both visually and physically. This project sets out to examine the relationship between wildfire occurences and the top two contributors to the air quality index (AQI), PM2.5 and Ozone. Both temporal trends (across 5 years, 2019 to 2024) and geographic trends across Colorado will be examined. Air quality data is provided hourly from a variety of monitoring stations in Colorado from the EPA, and wildfire incidents are reported as-occured by the NASA FIRMs website using VIIRS satellite detection. By examining variations in air quality during wildfire seasons, we seek to uncover actionable insights into seasonal and regional pollution dynamics, contributing to a better understanding of the environmental impacts of wildfires in Colorado. Additionally, multiple health risks are associated with the primary pollutants (Ozone and PM2.5), and determining the relationship between pollutants and fire incidence can help inform public health decisions.\n"
   ]
  },
  {
   "cell_type": "markdown",
   "id": "8d298109a51111b0",
   "metadata": {},
   "source": [
    "## Package and Path Management\n",
    "\n"
   ]
  },
  {
   "cell_type": "markdown",
   "id": "42b67a1cef893f7c",
   "metadata": {},
   "source": [
    "We'll start by loading in the necessary packages:\n",
    "* **Pandas** - Data manipulation and analysis\n",
    "* **Matplotlib** - Data visualization\n",
    "* **Seaborn** - Data visualization\n",
    "* **OS** - OS functionality\n",
    "* **Datetime** - Date and time manipulation\n",
    "* **GeoPandas** - Geographic data storage and handling\n",
    "* **Logging** - Handles internal logs\n",
    "* **Typing** - Data type handling\n",
    "* **Shapely** - Geographic point aggregation\n",
    "* **Folium** - Interactive map plotting\n",
    "* **Webbrowser** - Pulls up interactive plots in browser\n",
    "* **Plotly** - Interactive plotting\n",
    "* **Statsmodels** - For time series decomposition"
   ]
  },
  {
   "cell_type": "code",
   "execution_count": 1,
   "id": "8444b080c6bdb000",
   "metadata": {
    "ExecuteTime": {
     "end_time": "2025-03-01T15:25:20.544110Z",
     "start_time": "2025-03-01T15:25:20.539546Z"
    }
   },
   "outputs": [],
   "source": [
    "import os, sys\n",
    "import pandas as pd\n",
    "import numpy as np\n",
    "import geopandas as gpd\n",
    "import logging\n",
    "from typing import Optional, List\n",
    "from shapely.geometry import Point\n",
    "import matplotlib.pyplot as plt\n",
    "import folium\n",
    "import webbrowser\n",
    "import datetime\n",
    "import matplotlib.animation as animation\n",
    "import plotly.graph_objects as go\n",
    "from shapely.geometry import Point\n",
    "from plotly.subplots import make_subplots\n",
    "import statsmodels.api as sm\n",
    "from folium.plugins import HeatMap, HeatMapWithTime, TimestampedGeoJson, MarkerCluster\n",
    "from io import BytesIO\n",
    "import base64\n",
    "\n",
    "src_path = os.path.abspath(os.path.join(os.getcwd(), '../', 'src'))\n",
    "data_path = os.path.abspath(os.path.join(os.getcwd(), '../', 'data'))\n",
    "visuals_path = os.path.abspath(os.path.join(os.getcwd(), '../', 'visuals'))\n",
    "if src_path not in sys.path:\n",
    "    sys.path.append(src_path)\n",
    "if data_path not in sys.path:\n",
    "    sys.path.append(data_path)\n",
    "if visuals_path not in sys.path:\n",
    "    sys.path.append(visuals_path)"
   ]
  },
  {
   "cell_type": "markdown",
   "id": "3c6329d4",
   "metadata": {},
   "source": [
    "## Data Collection and Processing\n",
    "\n",
    "Next, we'll start loading the data from our two sources:"
   ]
  },
  {
   "cell_type": "code",
   "execution_count": 2,
   "id": "initial_id",
   "metadata": {
    "ExecuteTime": {
     "end_time": "2025-03-05T12:30:53.737008Z",
     "start_time": "2025-03-05T12:30:53.228105Z"
    },
    "collapsed": true
   },
   "outputs": [
    {
     "name": "stdout",
     "output_type": "stream",
     "text": [
      "Data already processed\n"
     ]
    }
   ],
   "source": [
    "# Import classes\n",
    "from aqi_wf_processor_2 import *\n",
    "\n",
    "if not os.path.exists(\"../data/aqi_data/aqi_processed/pm25_aqi_2019_2024.csv\") and not os.path.exists(\"../data/aqi_data/aqi_processed/ozone_aqi_2019_2024.csv\"):\n",
    "    # Paths and settings\n",
    "    wildfire_csv = \"../data/large_data/fire_archive_SV-C2_584955.csv\"\n",
    "    aqi_csv = \"../data/large_data/Colorado_AQI_2019_2024.csv\"\n",
    "    wildfire_output_dir = \"../data/wildfire_data/wildfire_processed/\"\n",
    "    aqi_output_dir = \"../data/aqi_data/aqi_processed/\"\n",
    "    county_shapefile = \"../data/co_shapefile/counties/counties_19.shp\"\n",
    "    start_year = 2019\n",
    "    end_year = 2024\n",
    "\n",
    "    # Process Wildfire Data\n",
    "    wildfire_processor = WildfireProcessor(\n",
    "        wildfire_filepath=wildfire_csv,\n",
    "        start_year=start_year,\n",
    "        end_year=end_year,\n",
    "        output_dir=wildfire_output_dir,\n",
    "        county_shapefile=county_shapefile\n",
    "    )\n",
    "    wildfire_processor.process_wildfire(year_range=(start_year, end_year))\n",
    "\n",
    "    # Load processed wildfire data for AQI processing\n",
    "    processed_wildfire_csv = \"../data/wildfire_data/wildfire_processed/wildfire_processed_2019_2024_n.csv\"\n",
    "\n",
    "    # Process AQI Data\n",
    "    aqi_processor = AQIProcessor(\n",
    "        aqi_filepath=aqi_csv,\n",
    "        wildfire_filepath=processed_wildfire_csv,\n",
    "        start_year=start_year,\n",
    "        end_year=end_year,\n",
    "        output_dir=aqi_output_dir,\n",
    "        county_shapefile=county_shapefile)\n",
    "\n",
    "    aqi_processor.process_aqi(years_to_process=list(range(start_year, end_year+1)))\n",
    "\n",
    "    #save df by pollutant\n",
    "    df = pd.read_csv(f\"../data/aqi_data/aqi_processed/aqi_final_{start_year}_{end_year}_30.csv\")\n",
    "    pm25_df = df[df[\"Parameter\"].str.upper() == \"PM2.5\"]\n",
    "    ozone_df = df[df[\"Parameter\"].str.upper() == \"OZONE\"]\n",
    "    pm25_df.to_csv(f\"../data/aqi_data/aqi_processed/pm25_aqi_{start_year}_{end_year}_30.csv\", index=False)\n",
    "    ozone_df.to_csv(f\"../data/aqi_data/aqi_processed/ozone_aqi_{start_year}_{end_year}_30.csv\", index=False)\n",
    "else:\n",
    "    print(\"Data already processed\")"
   ]
  },
  {
   "cell_type": "markdown",
   "id": "9356ebbf3391fb3",
   "metadata": {},
   "source": [
    "## Data Collection\n",
    "\n",
    "Before talking about the data source and collection process, we can talk about the date range that we're using for the analysis - March 23 - Sept 23 is what's defaulted in the API .py code and not sure if we want to change that, but can justify it here with hsitorical background (e.g. bad year for forest fires, etc.).\n",
    "\n",
    "I changed it slightly to only look at a month for testing purposes (quicker download)."
   ]
  },
  {
   "cell_type": "code",
   "execution_count": 3,
   "id": "18377b91eb7eef1c",
   "metadata": {
    "ExecuteTime": {
     "end_time": "2025-03-01T15:25:20.585322Z",
     "start_time": "2025-03-01T15:25:20.582492Z"
    }
   },
   "outputs": [],
   "source": [
    "ozone_dp = '../data/aqi_data/aqi_processed/ozone_aqi_2019_2024.csv'\n",
    "pm25_dp = '../data/aqi_data/aqi_processed/pm25_aqi_2019_2024.csv'\n",
    "wildfire_dp = '../data/wildfire_data/wildfire_processed/wildfire_processed_2019_2024.csv'\n",
    "state_shapefile = '../data/co_shapefile/counties/counties_19.shp'\n",
    "from geo_plots import *\n",
    "# Example usage with data between 2023 and 2024\n",
    "geo_plots = GeoPlots(ozone_dp, pm25_dp, wildfire_dp, state_shapefile, visuals_path, 2023, 2024)\n",
    "geo_plots.plot_stations()\n",
    "# show plot\n"
   ]
  },
  {
   "cell_type": "markdown",
   "id": "74971c93a8e6d42b",
   "metadata": {},
   "source": [
    "Background on EPA AQI data and API system for how we're pulling it.\n",
    "\n",
    "We'll check first to see if we already have a dataset downloaded before we go through the process of downloading it again."
   ]
  },
  {
   "cell_type": "code",
   "execution_count": null,
   "id": "87730f198bb8273a",
   "metadata": {
    "ExecuteTime": {
     "end_time": "2025-03-01T15:42:06.154612Z",
     "start_time": "2025-03-01T15:27:24.911548Z"
    }
   },
   "outputs": [],
   "source": []
  },
  {
   "cell_type": "code",
   "execution_count": 4,
   "id": "58f943be091d33db",
   "metadata": {
    "ExecuteTime": {
     "end_time": "2025-03-01T15:42:23.494435Z",
     "start_time": "2025-03-01T15:42:23.480670Z"
    }
   },
   "outputs": [
    {
     "ename": "NameError",
     "evalue": "name 'WildfireDataDownloader' is not defined",
     "output_type": "error",
     "traceback": [
      "\u001b[1;31m---------------------------------------------------------------------------\u001b[0m",
      "\u001b[1;31mNameError\u001b[0m                                 Traceback (most recent call last)",
      "Cell \u001b[1;32mIn[4], line 11\u001b[0m\n\u001b[0;32m      1\u001b[0m \u001b[38;5;66;03m# Use wildfire data downloader to download 2024 wildfire\u001b[39;00m\n\u001b[0;32m      3\u001b[0m download_info \u001b[38;5;241m=\u001b[39m [\n\u001b[0;32m      4\u001b[0m         {\n\u001b[0;32m      5\u001b[0m             \u001b[38;5;124m\"\u001b[39m\u001b[38;5;124mdownload_id\u001b[39m\u001b[38;5;124m\"\u001b[39m: \u001b[38;5;124m\"\u001b[39m\u001b[38;5;124m575994\u001b[39m\u001b[38;5;124m\"\u001b[39m,\n\u001b[1;32m   (...)\u001b[0m\n\u001b[0;32m      9\u001b[0m                     \u001b[38;5;124m\"\u001b[39m\u001b[38;5;124mXw7_9qSGknhHOT0__q1KLHus-P_CPWdE-tAgEfdHGVrXmHVmZofQ$\u001b[39m\u001b[38;5;124m\"\u001b[39m)\n\u001b[0;32m     10\u001b[0m         }]\n\u001b[1;32m---> 11\u001b[0m wf_downloader \u001b[38;5;241m=\u001b[39m \u001b[43mWildfireDataDownloader\u001b[49m(download_info, output_dir\u001b[38;5;241m=\u001b[39mdata_path)\n\u001b[0;32m     12\u001b[0m wf_downloader\u001b[38;5;241m.\u001b[39mrun()\n",
      "\u001b[1;31mNameError\u001b[0m: name 'WildfireDataDownloader' is not defined"
     ]
    }
   ],
   "source": [
    "# Use wildfire data downloader to download 2024 wildfire\n",
    "\n",
    "download_info = [\n",
    "        {\n",
    "            \"download_id\": \"575994\",\n",
    "            \"data_source\": \"modis-c6.1\",\n",
    "            \"url\": (\"https://urldefense.com/v3/__https://firms.modaps.eosdis.nasa.gov/data/download/\"\n",
    "                    \"DL_FIRE_M-C61_575994.zip__;!!NCZxaNi9jForCP_SxBKJCA!V6g2hfAXPmWgf7I5lH9wj4Mfl9l-9NzD5-\"\n",
    "                    \"Xw7_9qSGknhHOT0__q1KLHus-P_CPWdE-tAgEfdHGVrXmHVmZofQ$\")\n",
    "        }]\n",
    "wf_downloader = WildfireDataDownloader(download_info, output_dir=data_path)\n",
    "wf_downloader.run()"
   ]
  },
  {
   "cell_type": "markdown",
   "id": "f73e808b6708450b",
   "metadata": {},
   "source": [
    "## Data Import\n",
    "\n",
    "We can load the downloaded CSV into a dataframe and start poking around. We can take a peek at the first couple values:"
   ]
  },
  {
   "cell_type": "code",
   "execution_count": null,
   "id": "448841b8c34d11e",
   "metadata": {
    "ExecuteTime": {
     "end_time": "2025-03-01T15:43:15.159010Z",
     "start_time": "2025-03-01T15:43:14.538659Z"
    }
   },
   "outputs": [
    {
     "data": {
      "text/plain": [
       "Traceback (most recent call last):\n",
       "  File \"c:\\Users\\adamf\\.vscode\\extensions\\ms-python.python-2025.2.0-win32-x64\\python_files\\python_server.py\", line 133, in exec_user_input\n",
       "    retval = callable_(user_input, user_globals)\n",
       "  File \"<string>\", line 1, in <module>\n",
       "NameError: name 'filename' is not defined\n",
       "\n"
      ]
     },
     "metadata": {},
     "output_type": "display_data"
    }
   ],
   "source": [
    "AQI_data = pd.read_csv(os.path.join(data_path, filename))\n",
    "# Applying the correct variable types to the categories:\n",
    "AQI_data['Parameter'] = AQI_data['Parameter'].astype('category')\n",
    "AQI_data.head()"
   ]
  },
  {
   "cell_type": "markdown",
   "id": "2985a5d0670be9ae",
   "metadata": {},
   "source": [
    "Working next on the wildfire dataset (for reference, confidence is detection confidence percentage, brightness is the brightness temperature of the pixel (K), and frp is fire radiative power(MW)):"
   ]
  },
  {
   "cell_type": "code",
   "execution_count": null,
   "id": "de062ab891a052e",
   "metadata": {
    "ExecuteTime": {
     "end_time": "2025-03-01T15:44:50.334002Z",
     "start_time": "2025-03-01T15:44:50.197196Z"
    }
   },
   "outputs": [
    {
     "data": {
      "text/plain": [
       "Traceback (most recent call last):\n",
       "  File \"c:\\Users\\adamf\\.vscode\\extensions\\ms-python.python-2025.2.0-win32-x64\\python_files\\python_server.py\", line 133, in exec_user_input\n",
       "    retval = callable_(user_input, user_globals)\n",
       "  File \"<string>\", line 2, in <module>\n",
       "NameError: name 'WildfireDataConverter' is not defined\n",
       "\n"
      ]
     },
     "metadata": {},
     "output_type": "display_data"
    }
   ],
   "source": [
    "# Convert out from json to csv, then read into pandas\n",
    "wf_converter = WildfireDataConverter(extracted_dir=data_path,\n",
    "        start_year=2023,\n",
    "        end_year=2024,\n",
    "        output_csv=None)\n",
    "wf_converter.convert_to_csv()\n",
    "wf_df = pd.read_csv(os.path.join(data_path, \"colorado_wildfires_2023_2024.csv\"))\n",
    "# Summarize\n",
    "wf_df.head()"
   ]
  },
  {
   "cell_type": "markdown",
   "id": "836a415d94ccbcc",
   "metadata": {},
   "source": [
    "Now we'll convert each of the datasets (splitting out the AQI data by parameter) into GeoDataSets for easy plotting and manipulation."
   ]
  },
  {
   "cell_type": "code",
   "execution_count": null,
   "id": "fe0771a46ddb3d49",
   "metadata": {},
   "outputs": [],
   "source": []
  },
  {
   "cell_type": "markdown",
   "id": "27b19e649294980b",
   "metadata": {},
   "source": [
    "## Inital Views\n",
    "Plotting out a view of all of the stations used to collect data:"
   ]
  },
  {
   "cell_type": "code",
   "execution_count": null,
   "id": "7040bbbc1131e1b6",
   "metadata": {
    "ExecuteTime": {
     "end_time": "2025-03-01T15:46:48.107469Z",
     "start_time": "2025-03-01T15:46:47.821026Z"
    }
   },
   "outputs": [
    {
     "data": {
      "text/plain": [
       "Traceback (most recent call last):\n",
       "  File \"c:\\Users\\adamf\\.vscode\\extensions\\ms-python.python-2025.2.0-win32-x64\\python_files\\python_server.py\", line 133, in exec_user_input\n",
       "    retval = callable_(user_input, user_globals)\n",
       "  File \"<string>\", line 2, in <module>\n",
       "NameError: name 'AQI_data' is not defined\n",
       "\n"
      ]
     },
     "metadata": {},
     "output_type": "display_data"
    }
   ],
   "source": [
    "# extract each unique site name with latitude and longitude\n",
    "site_df = AQI_data[['SiteName', 'Latitude', 'Longitude']].drop_duplicates()\n",
    "# Plot the site locations on the state map of colorado using the shape file\n",
    "state_map = geopandas.read_file('../src/County_Data_2020.shp')\n",
    "fig, ax = plt.subplots(figsize=(10, 10))\n",
    "state_map.boundary.plot(ax=ax, color=\"black\")\n",
    "sns.scatterplot(data=site_df, x='Longitude', y='Latitude', c='red', marker=\"o\", s=10)\n",
    "plt.grid(False)\n",
    "ax.set_axis_off()\n",
    "plt.show()"
   ]
  },
  {
   "cell_type": "markdown",
   "id": "96b0162fa5408db5",
   "metadata": {},
   "source": []
  },
  {
   "cell_type": "code",
   "execution_count": null,
   "id": "31a78cf39eb9bae",
   "metadata": {
    "ExecuteTime": {
     "end_time": "2025-03-01T15:47:00.305758Z",
     "start_time": "2025-03-01T15:46:59.616260Z"
    }
   },
   "outputs": [
    {
     "data": {
      "text/plain": [
       "Traceback (most recent call last):\n",
       "  File \"c:\\Users\\adamf\\.vscode\\extensions\\ms-python.python-2025.2.0-win32-x64\\python_files\\python_server.py\", line 133, in exec_user_input\n",
       "    retval = callable_(user_input, user_globals)\n",
       "  File \"<string>\", line 3, in <module>\n",
       "NameError: name 'state_map' is not defined\n",
       "\n"
      ]
     },
     "metadata": {},
     "output_type": "display_data"
    }
   ],
   "source": [
    "# Geomap of wildfires\n",
    "fig2, ax2 = plt.subplots(figsize=(10, 10))\n",
    "state_map.boundary.plot(ax=ax2, color = 'black')\n",
    "sns.scatterplot(data=wf_df, x='longitude', y='latitude', hue='brightness', size='brightness')\n",
    "plt.grid(False)\n",
    "plt.show()"
   ]
  },
  {
   "cell_type": "markdown",
   "id": "67cb75c200edc4e5",
   "metadata": {},
   "source": []
  }
 ],
 "metadata": {
  "kernelspec": {
   "display_name": ".venv",
   "language": "python",
   "name": "python3"
  },
  "language_info": {
   "codemirror_mode": {
    "name": "ipython",
    "version": 3
   },
   "file_extension": ".py",
   "mimetype": "text/x-python",
   "name": "python",
   "nbconvert_exporter": "python",
   "pygments_lexer": "ipython3",
   "version": "3.13.1"
  }
 },
 "nbformat": 4,
 "nbformat_minor": 5
}
