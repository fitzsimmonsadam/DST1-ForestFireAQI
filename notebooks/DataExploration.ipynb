{
 "cells": [
  {
   "metadata": {},
   "cell_type": "markdown",
   "source": [
    "# Data Science Tools 1 - Final Project\n",
    "\n",
    "Pulling in what we wrote as answers for the 1st hwk for reference:\n",
    "\n",
    "We aim to analyze the impact of wildfires on daily AQI trends in Colorado over the past decade, focusing on how these events influence air quality across the state. Using air quality data from the EPA’s Air Quality System (AQS), this project will identify temporal patterns and highlight the most affected regions. Special attention will be given to pollutants like PM2.5 and Ozone, which are highly sensitive to wildfire activity. By examining variations in air quality during wildfire seasons, we seek to uncover actionable insights into seasonal and regional pollution dynamics, contributing to a better understanding of the environmental impacts of wildfires in Colorado.\n",
    "\n",
    "Download the air quality data from the Air Quality System (AQS) website of the U.S. Environmental Protection Agency (EPA) using web scraping and web API, which can be done in two weeks.  \n",
    "Some data fields or attributes are listed below.\n",
    "\n",
    "    State Code: The FIPS code of the state in which the monitor resides. (CO = 08)\n",
    "\n",
    "    County Code: The FIPS code of the county in which the monitor resides.\n",
    "\n",
    "    Site Num: A unique number within the county identifying the site.\n",
    "\n",
    "    Date Local: The calendar date for the summary. All daily summaries are for the local standard day (midnight to midnight) at the monitor.\n",
    "\n",
    "    Latitude and Longitude: Geographic location of the monitoring station.\n",
    "\n",
    "    AQI: The Air Quality Index value for the day.\n",
    "\n",
    "    Parameter Code: The AQS code corresponding to the parameter measured by the monitor.\n",
    "\n",
    "    Parameter Name: The name or description assigned in AQS to the parameter measured by the monitor. Parameters may be pollutants or non-pollutants (e.g. PM2.5, Ozone, etc.).\n",
    "\n",
    "    Pollutant Standard: Specifies the ambient air quality standard rules used to aggregate statistics. (calculate AQI).\n",
    "\n",
    "    Units of Measure: The unit of measure for the parameter. QAD always returns data in the standard units for the parameter. Submitters can report data in any unit and the EPA converts it to a standard unit so we may use the data in calculations.\n",
    "\n",
    "Noise data could come from outliers, missing data, invalid values, or misspellings. So far, we notice that not every air monitor station has a record for every day of the year. Also, as EPA pointed out that some stations collected multiple types of data for air quality (i.e., Ozone, CO, NO2, PM2.5, and PM10) while some situations collected only one type of data. These will be challenges for us to pre-process the data.\n",
    "\n",
    "Noise in the dataset arises from missing data, as not all monitoring stations record data daily. Additionally, stations often measure different pollutants, leading to inconsistencies when comparing across locations. Outliers, such as unusually high AQI values, may occur due to equipment errors or localized events unrelated to wildfires. Finally, geographic bias exists as monitoring stations are often concentrated in urban areas, potentially underrepresenting rural regions where wildfires are more likely to occur.\n",
    "\n",
    "Feature engineering opportunities include extracting wildfire season information by identifying months typically associated with wildfire activity (e.g., June–September). Temporal features such as monthly or yearly aggregates, and rolling averages, zcan be created to smooth short-term fluctuations and highlight seasonal trends. Pollutant-specific transformations, such as calculating ratios (e.g., PM2.5/AQI) or isolating key wildfire-related pollutants, will help identify their contributions to air quality degradation. Geospatial aggregation by county or monitoring station will allow for the identification of regions most affected by wildfires. Additionally, AQI values can be re-coded into categorical levels (e.g., “Good,” “Moderate,” “Unhealthy”) to better communicate air quality patterns during wildfire events."
   ],
   "id": "8946aaab412223f1"
  },
  {
   "metadata": {},
   "cell_type": "markdown",
   "source": [
    "## Package and Path Management\n",
    "\n"
   ],
   "id": "8d298109a51111b0"
  },
  {
   "metadata": {},
   "cell_type": "markdown",
   "source": "Add proper path variables to the python environment so we can pull in source files and save data and figures.",
   "id": "42b67a1cef893f7c"
  },
  {
   "metadata": {
    "ExecuteTime": {
     "end_time": "2025-02-07T11:17:11.447063Z",
     "start_time": "2025-02-07T11:17:11.444596Z"
    }
   },
   "cell_type": "code",
   "source": [
    "import os, sys\n",
    "\n",
    "src_path = os.path.abspath(os.path.join(os.getcwd(), '../src'))\n",
    "data_path = os.path.abspath(os.path.join(os.getcwd(), '../data'))\n",
    "log_path = os.path.abspath(os.path.join(os.getcwd(), '../logs'))\n",
    "fig_path = os.path.abspath(os.path.join(os.getcwd(), '../figures'))\n",
    "sys.path.append(src_path)"
   ],
   "id": "8444b080c6bdb000",
   "outputs": [],
   "execution_count": 1
  },
  {
   "metadata": {},
   "cell_type": "markdown",
   "source": [
    "* **Pandas** - Data manipulation and analysis\n",
    "* **Matplotlib** - Data visualization\n",
    "* **Seaborn** - Data visualization\n",
    "* **OS** - OS functionality\n",
    "* **Datetime** - Date and time manipulation"
   ],
   "id": "b3dd991e03152177"
  },
  {
   "cell_type": "code",
   "id": "initial_id",
   "metadata": {
    "collapsed": true,
    "ExecuteTime": {
     "end_time": "2025-02-07T11:17:11.714622Z",
     "start_time": "2025-02-07T11:17:11.453698Z"
    }
   },
   "source": [
    "import pandas as pd\n",
    "import matplotlib.pyplot as plt\n",
    "import seaborn as sns\n",
    "import json",
    "import os",
    "from datetime import datetime\n",
    "from src.AQS_API import AirQualityCollector"
   ],
   "outputs": [],
   "execution_count": 2
  },
  {
   "metadata": {},
   "cell_type": "markdown",
   "source": [
    "## Data Collection\n",
    "\n",
    "Before talking about the data source and collection process, we can talk about the date range that we're using for the analysis - March 23 - Sept 23 is what's defaulted in the API .py code and not sure if we want to change that, but can justify it here with hsitorical background (e.g. bad year for forest fires, etc.).\n",
    "\n",
    "I changed it slightly to only look at a month for testing purposes (quicker download)."
   ],
   "id": "9356ebbf3391fb3"
  },
  {
   "metadata": {
    "ExecuteTime": {
     "end_time": "2025-02-07T11:17:11.792596Z",
     "start_time": "2025-02-07T11:17:11.789940Z"
    }
   },
   "cell_type": "code",
   "source": [
    "# Month Range of Interest in YYYYMM format\n",
    "start_date = datetime(2023, 3, 1)\n",
    "end_date = datetime(2023, 4, 1)"
   ],
   "id": "18377b91eb7eef1c",
   "outputs": [],
   "execution_count": 3
  },
  {
   "metadata": {},
   "cell_type": "markdown",
   "source": [
    "Background on EPA AQI data and API system for how we're pulling it.\n",
    "\n",
    "We'll check first to see if we already have a dataset downloaded before we go through the process of downloading it again."
   ],
   "id": "74971c93a8e6d42b"
  },
  {
   "metadata": {
    "ExecuteTime": {
     "end_time": "2025-02-07T11:19:28.869041Z",
     "start_time": "2025-02-07T11:19:28.865546Z"
    }
   },
   "cell_type": "code",
   "source": [
    "# Check if file already exists\n",
    "filename = f\"Colorado_AQI_{start_date.strftime('%Y%m')}_{end_date.strftime('%Y%m')}.csv\"\n",
    "if os.path.exists(os.path.join(data_path, filename)):\n",
    "    print(f\"File {filename} already present.\")\n",
    "else:\n",
    "    #Load API from config file\n",
    "    with open("config.json", "r") as file:\n"
          "config = json.load(file)\n"
        "API_KEY = config["API_KEY"]"
    "    collector = AirQualityCollector(api_key=API_KEY, start_date=start_date, end_date=end_date)\n",
    "    collector.collect_data()\n",
    "    print(f\"File {filename} downloaded.\")"
   ],
   "id": "87730f198bb8273a",
   "outputs": [
    {
     "name": "stdout",
     "output_type": "stream",
     "text": [
      "File Colorado_AQI_202303_202304.csv already present.\n"
     ]
    }
   ],
   "execution_count": 6
  },
  {
   "metadata": {},
   "cell_type": "markdown",
   "source": [
    "## Data Cleaning\n",
    "\n",
    "We can load the downloaded CSV into a dataframe and start poking around. We can take a peek at the first couple values:"
   ],
   "id": "f73e808b6708450b"
  },
  {
   "metadata": {
    "ExecuteTime": {
     "end_time": "2025-02-07T11:19:49.948590Z",
     "start_time": "2025-02-07T11:19:49.910601Z"
    }
   },
   "cell_type": "code",
   "source": [
    "df = pd.read_csv(os.path.join(data_path, filename))\n",
    "df.head()"
   ],
   "id": "448841b8c34d11e",
   "outputs": [
    {
     "data": {
      "text/plain": [
       "    Latitude   Longitude               UTC Parameter   Unit  Value  \\\n",
       "0  40.086941 -108.761002  2023-03-01T00:00     OZONE    PPB   44.0   \n",
       "1  40.086941 -108.761002  2023-03-01T00:00     PM2.5  UG/M3    2.3   \n",
       "2  37.200056 -108.733111  2023-03-01T00:00     OZONE    PPB   43.0   \n",
       "3  37.349970 -108.587370  2023-03-01T00:00     OZONE    PPB   36.0   \n",
       "4  39.063599 -108.561096  2023-03-01T00:00     PM2.5  UG/M3    1.6   \n",
       "\n",
       "   RawConcentration  AQI  Category                          SiteName  \\\n",
       "0              48.0   41         1                       Rangely, CO   \n",
       "1               4.0   13         1                       Rangely, CO   \n",
       "2              42.0   40         1                            Towaoc   \n",
       "3              38.0   33         1                      Cortez Ozone   \n",
       "4               1.6    9         1  Grand Junction - Powell Building   \n",
       "\n",
       "                                          AgencyName   FullAQSCode  \\\n",
       "0                              National Park Service     081030006   \n",
       "1                              National Park Service     081030006   \n",
       "2  Quality Review and Exchange System for Tribes ...  840080838001   \n",
       "3  Colorado Department of Public Health and Envir...     080830006   \n",
       "4  Colorado Department of Public Health and Envir...     080770017   \n",
       "\n",
       "    IntlAQSCode  \n",
       "0  840081030006  \n",
       "1  840081030006  \n",
       "2  840080838001  \n",
       "3  840080830006  \n",
       "4  840080770017  "
      ],
      "text/html": [
       "<div>\n",
       "<style scoped>\n",
       "    .dataframe tbody tr th:only-of-type {\n",
       "        vertical-align: middle;\n",
       "    }\n",
       "\n",
       "    .dataframe tbody tr th {\n",
       "        vertical-align: top;\n",
       "    }\n",
       "\n",
       "    .dataframe thead th {\n",
       "        text-align: right;\n",
       "    }\n",
       "</style>\n",
       "<table border=\"1\" class=\"dataframe\">\n",
       "  <thead>\n",
       "    <tr style=\"text-align: right;\">\n",
       "      <th></th>\n",
       "      <th>Latitude</th>\n",
       "      <th>Longitude</th>\n",
       "      <th>UTC</th>\n",
       "      <th>Parameter</th>\n",
       "      <th>Unit</th>\n",
       "      <th>Value</th>\n",
       "      <th>RawConcentration</th>\n",
       "      <th>AQI</th>\n",
       "      <th>Category</th>\n",
       "      <th>SiteName</th>\n",
       "      <th>AgencyName</th>\n",
       "      <th>FullAQSCode</th>\n",
       "      <th>IntlAQSCode</th>\n",
       "    </tr>\n",
       "  </thead>\n",
       "  <tbody>\n",
       "    <tr>\n",
       "      <th>0</th>\n",
       "      <td>40.086941</td>\n",
       "      <td>-108.761002</td>\n",
       "      <td>2023-03-01T00:00</td>\n",
       "      <td>OZONE</td>\n",
       "      <td>PPB</td>\n",
       "      <td>44.0</td>\n",
       "      <td>48.0</td>\n",
       "      <td>41</td>\n",
       "      <td>1</td>\n",
       "      <td>Rangely, CO</td>\n",
       "      <td>National Park Service</td>\n",
       "      <td>081030006</td>\n",
       "      <td>840081030006</td>\n",
       "    </tr>\n",
       "    <tr>\n",
       "      <th>1</th>\n",
       "      <td>40.086941</td>\n",
       "      <td>-108.761002</td>\n",
       "      <td>2023-03-01T00:00</td>\n",
       "      <td>PM2.5</td>\n",
       "      <td>UG/M3</td>\n",
       "      <td>2.3</td>\n",
       "      <td>4.0</td>\n",
       "      <td>13</td>\n",
       "      <td>1</td>\n",
       "      <td>Rangely, CO</td>\n",
       "      <td>National Park Service</td>\n",
       "      <td>081030006</td>\n",
       "      <td>840081030006</td>\n",
       "    </tr>\n",
       "    <tr>\n",
       "      <th>2</th>\n",
       "      <td>37.200056</td>\n",
       "      <td>-108.733111</td>\n",
       "      <td>2023-03-01T00:00</td>\n",
       "      <td>OZONE</td>\n",
       "      <td>PPB</td>\n",
       "      <td>43.0</td>\n",
       "      <td>42.0</td>\n",
       "      <td>40</td>\n",
       "      <td>1</td>\n",
       "      <td>Towaoc</td>\n",
       "      <td>Quality Review and Exchange System for Tribes ...</td>\n",
       "      <td>840080838001</td>\n",
       "      <td>840080838001</td>\n",
       "    </tr>\n",
       "    <tr>\n",
       "      <th>3</th>\n",
       "      <td>37.349970</td>\n",
       "      <td>-108.587370</td>\n",
       "      <td>2023-03-01T00:00</td>\n",
       "      <td>OZONE</td>\n",
       "      <td>PPB</td>\n",
       "      <td>36.0</td>\n",
       "      <td>38.0</td>\n",
       "      <td>33</td>\n",
       "      <td>1</td>\n",
       "      <td>Cortez Ozone</td>\n",
       "      <td>Colorado Department of Public Health and Envir...</td>\n",
       "      <td>080830006</td>\n",
       "      <td>840080830006</td>\n",
       "    </tr>\n",
       "    <tr>\n",
       "      <th>4</th>\n",
       "      <td>39.063599</td>\n",
       "      <td>-108.561096</td>\n",
       "      <td>2023-03-01T00:00</td>\n",
       "      <td>PM2.5</td>\n",
       "      <td>UG/M3</td>\n",
       "      <td>1.6</td>\n",
       "      <td>1.6</td>\n",
       "      <td>9</td>\n",
       "      <td>1</td>\n",
       "      <td>Grand Junction - Powell Building</td>\n",
       "      <td>Colorado Department of Public Health and Envir...</td>\n",
       "      <td>080770017</td>\n",
       "      <td>840080770017</td>\n",
       "    </tr>\n",
       "  </tbody>\n",
       "</table>\n",
       "</div>"
      ]
     },
     "execution_count": 8,
     "metadata": {},
     "output_type": "execute_result"
    }
   ],
   "execution_count": 8
  },
  {
   "metadata": {},
   "cell_type": "markdown",
   "source": "Applying the correct variable types to the categories:",
   "id": "8c6c27d45b28cf8"
  },
  {
   "metadata": {
    "ExecuteTime": {
     "end_time": "2025-02-07T12:22:42.879571Z",
     "start_time": "2025-02-07T12:22:42.835704Z"
    }
   },
   "cell_type": "code",
   "source": [
    "df['Parameter'] = df['Parameter'].astype('category')\n",
    "\n"
   ],
   "id": "da32edf772fabbe6",
   "outputs": [
    {
     "data": {
      "text/plain": [
       "           Latitude     Longitude         Value  RawConcentration  \\\n",
       "count  33079.000000  33079.000000  33079.000000      33079.000000   \n",
       "mean      39.297817   -105.984372     27.004955         19.553662   \n",
       "std        1.037432      1.453322     32.167314         95.024176   \n",
       "min       37.102580   -108.761002   -999.000000       -999.000000   \n",
       "25%       38.956400   -107.628630      6.600000          6.000000   \n",
       "50%       39.732144   -105.141100     32.000000         32.000000   \n",
       "75%       39.912800   -104.957200     44.000000         45.000000   \n",
       "max       40.592540   -104.569061     67.000000         75.000000   \n",
       "\n",
       "                AQI      Category  \n",
       "count  33079.000000  33079.000000  \n",
       "mean      32.358657      0.411923  \n",
       "std       30.216897     25.784224  \n",
       "min     -999.000000   -999.000000  \n",
       "25%       23.000000      1.000000  \n",
       "50%       34.000000      1.000000  \n",
       "75%       44.000000      1.000000  \n",
       "max      116.000000      3.000000  "
      ],
      "text/html": [
       "<div>\n",
       "<style scoped>\n",
       "    .dataframe tbody tr th:only-of-type {\n",
       "        vertical-align: middle;\n",
       "    }\n",
       "\n",
       "    .dataframe tbody tr th {\n",
       "        vertical-align: top;\n",
       "    }\n",
       "\n",
       "    .dataframe thead th {\n",
       "        text-align: right;\n",
       "    }\n",
       "</style>\n",
       "<table border=\"1\" class=\"dataframe\">\n",
       "  <thead>\n",
       "    <tr style=\"text-align: right;\">\n",
       "      <th></th>\n",
       "      <th>Latitude</th>\n",
       "      <th>Longitude</th>\n",
       "      <th>Value</th>\n",
       "      <th>RawConcentration</th>\n",
       "      <th>AQI</th>\n",
       "      <th>Category</th>\n",
       "    </tr>\n",
       "  </thead>\n",
       "  <tbody>\n",
       "    <tr>\n",
       "      <th>count</th>\n",
       "      <td>33079.000000</td>\n",
       "      <td>33079.000000</td>\n",
       "      <td>33079.000000</td>\n",
       "      <td>33079.000000</td>\n",
       "      <td>33079.000000</td>\n",
       "      <td>33079.000000</td>\n",
       "    </tr>\n",
       "    <tr>\n",
       "      <th>mean</th>\n",
       "      <td>39.297817</td>\n",
       "      <td>-105.984372</td>\n",
       "      <td>27.004955</td>\n",
       "      <td>19.553662</td>\n",
       "      <td>32.358657</td>\n",
       "      <td>0.411923</td>\n",
       "    </tr>\n",
       "    <tr>\n",
       "      <th>std</th>\n",
       "      <td>1.037432</td>\n",
       "      <td>1.453322</td>\n",
       "      <td>32.167314</td>\n",
       "      <td>95.024176</td>\n",
       "      <td>30.216897</td>\n",
       "      <td>25.784224</td>\n",
       "    </tr>\n",
       "    <tr>\n",
       "      <th>min</th>\n",
       "      <td>37.102580</td>\n",
       "      <td>-108.761002</td>\n",
       "      <td>-999.000000</td>\n",
       "      <td>-999.000000</td>\n",
       "      <td>-999.000000</td>\n",
       "      <td>-999.000000</td>\n",
       "    </tr>\n",
       "    <tr>\n",
       "      <th>25%</th>\n",
       "      <td>38.956400</td>\n",
       "      <td>-107.628630</td>\n",
       "      <td>6.600000</td>\n",
       "      <td>6.000000</td>\n",
       "      <td>23.000000</td>\n",
       "      <td>1.000000</td>\n",
       "    </tr>\n",
       "    <tr>\n",
       "      <th>50%</th>\n",
       "      <td>39.732144</td>\n",
       "      <td>-105.141100</td>\n",
       "      <td>32.000000</td>\n",
       "      <td>32.000000</td>\n",
       "      <td>34.000000</td>\n",
       "      <td>1.000000</td>\n",
       "    </tr>\n",
       "    <tr>\n",
       "      <th>75%</th>\n",
       "      <td>39.912800</td>\n",
       "      <td>-104.957200</td>\n",
       "      <td>44.000000</td>\n",
       "      <td>45.000000</td>\n",
       "      <td>44.000000</td>\n",
       "      <td>1.000000</td>\n",
       "    </tr>\n",
       "    <tr>\n",
       "      <th>max</th>\n",
       "      <td>40.592540</td>\n",
       "      <td>-104.569061</td>\n",
       "      <td>67.000000</td>\n",
       "      <td>75.000000</td>\n",
       "      <td>116.000000</td>\n",
       "      <td>3.000000</td>\n",
       "    </tr>\n",
       "  </tbody>\n",
       "</table>\n",
       "</div>"
      ]
     },
     "execution_count": 9,
     "metadata": {},
     "output_type": "execute_result"
    }
   ],
   "execution_count": 9
  },
  {
   "metadata": {},
   "cell_type": "code",
   "outputs": [],
   "execution_count": null,
   "source": "",
   "id": "adf95c807d5878cd"
  }
 ],
 "metadata": {
  "kernelspec": {
   "display_name": "Python 3",
   "language": "python",
   "name": "python3"
  },
  "language_info": {
   "codemirror_mode": {
    "name": "ipython",
    "version": 2
   },
   "file_extension": ".py",
   "mimetype": "text/x-python",
   "name": "python",
   "nbconvert_exporter": "python",
   "pygments_lexer": "ipython2",
   "version": "2.7.6"
  }
 },
 "nbformat": 4,
 "nbformat_minor": 5
}
