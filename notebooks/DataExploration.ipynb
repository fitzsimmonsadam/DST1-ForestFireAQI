{
 "cells": [
  {
   "metadata": {},
   "cell_type": "markdown",
   "source": [
    "# Data Science Tools 1 - Final Project\n",
    "\n",
    "Pulling in what we wrote as answers for the 1st hwk for reference:\n",
    "\n",
    "We aim to analyze the impact of wildfires on daily AQI trends in Colorado over the past decade, focusing on how these events influence air quality across the state. Using air quality data from the EPA’s Air Quality System (AQS), this project will identify temporal patterns and highlight the most affected regions. Special attention will be given to pollutants like PM2.5 and Ozone, which are highly sensitive to wildfire activity. By examining variations in air quality during wildfire seasons, we seek to uncover actionable insights into seasonal and regional pollution dynamics, contributing to a better understanding of the environmental impacts of wildfires in Colorado.\n",
    "\n",
    "Download the air quality data from the Air Quality System (AQS) website of the U.S. Environmental Protection Agency (EPA) using web scraping and web API, which can be done in two weeks.  \n",
    "Some data fields or attributes are listed below.\n",
    "\n",
    "    State Code: The FIPS code of the state in which the monitor resides. (CO = 08)\n",
    "\n",
    "    County Code: The FIPS code of the county in which the monitor resides.\n",
    "\n",
    "    Site Num: A unique number within the county identifying the site.\n",
    "\n",
    "    Date Local: The calendar date for the summary. All daily summaries are for the local standard day (midnight to midnight) at the monitor.\n",
    "\n",
    "    Latitude and Longitude: Geographic location of the monitoring station.\n",
    "\n",
    "    AQI: The Air Quality Index value for the day.\n",
    "\n",
    "    Parameter Code: The AQS code corresponding to the parameter measured by the monitor.\n",
    "\n",
    "    Parameter Name: The name or description assigned in AQS to the parameter measured by the monitor. Parameters may be pollutants or non-pollutants (e.g. PM2.5, Ozone, etc.).\n",
    "\n",
    "    Pollutant Standard: Specifies the ambient air quality standard rules used to aggregate statistics. (calculate AQI).\n",
    "\n",
    "    Units of Measure: The unit of measure for the parameter. QAD always returns data in the standard units for the parameter. Submitters can report data in any unit and the EPA converts it to a standard unit so we may use the data in calculations.\n",
    "\n",
    "Noise data could come from outliers, missing data, invalid values, or misspellings. So far, we notice that not every air monitor station has a record for every day of the year. Also, as EPA pointed out that some stations collected multiple types of data for air quality (i.e., Ozone, CO, NO2, PM2.5, and PM10) while some situations collected only one type of data. These will be challenges for us to pre-process the data.\n",
    "\n",
    "Noise in the dataset arises from missing data, as not all monitoring stations record data daily. Additionally, stations often measure different pollutants, leading to inconsistencies when comparing across locations. Outliers, such as unusually high AQI values, may occur due to equipment errors or localized events unrelated to wildfires. Finally, geographic bias exists as monitoring stations are often concentrated in urban areas, potentially underrepresenting rural regions where wildfires are more likely to occur.\n",
    "\n",
    "Feature engineering opportunities include extracting wildfire season information by identifying months typically associated with wildfire activity (e.g., June–September). Temporal features such as monthly or yearly aggregates, and rolling averages, zcan be created to smooth short-term fluctuations and highlight seasonal trends. Pollutant-specific transformations, such as calculating ratios (e.g., PM2.5/AQI) or isolating key wildfire-related pollutants, will help identify their contributions to air quality degradation. Geospatial aggregation by county or monitoring station will allow for the identification of regions most affected by wildfires. Additionally, AQI values can be re-coded into categorical levels (e.g., “Good,” “Moderate,” “Unhealthy”) to better communicate air quality patterns during wildfire events."
   ],
   "id": "8946aaab412223f1"
  },
  {
   "metadata": {},
   "cell_type": "markdown",
   "source": [
    "## Package and Path Management\n",
    "\n"
   ],
   "id": "8d298109a51111b0"
  },
  {
   "metadata": {},
   "cell_type": "markdown",
   "source": "Add proper path variables to the python environment so we can pull in source files and save data and figures.",
   "id": "42b67a1cef893f7c"
  },
  {
   "metadata": {
    "ExecuteTime": {
     "end_time": "2025-02-07T10:10:07.548021Z",
     "start_time": "2025-02-07T10:10:07.545434Z"
    }
   },
   "cell_type": "code",
   "source": [
    "import os, sys\n",
    "sys.path.append(os.path.join(os.path.abspath(''), '../src'))\n",
    "sys.path.append(os.path.join(os.path.abspath(''), '../data'))\n",
    "sys.path.append(os.path.join(os.path.abspath(''), '../figures'))"
   ],
   "id": "8444b080c6bdb000",
   "outputs": [],
   "execution_count": 13
  },
  {
   "metadata": {},
   "cell_type": "markdown",
   "source": [
    "* **Pandas** - Data manipulation and analysis\n",
    "* **Numpy** - Mathematical functions\n",
    "* **Matplotlib** - Data visualization\n",
    "* **Seaborn** - Data visualization\n",
    "* **OS** - Operating system dependent functionality\n",
    "* **Datetime** - Date and time manipulation\n",
    "* **Requests** - HTTP library\n",
    "* **Logging** - Logging facility for Python\n",
    "* **Time** - Time access and conversions"
   ],
   "id": "b3dd991e03152177"
  },
  {
   "cell_type": "code",
   "id": "initial_id",
   "metadata": {
    "collapsed": true,
    "ExecuteTime": {
     "end_time": "2025-02-07T10:10:07.554520Z",
     "start_time": "2025-02-07T10:10:07.550606Z"
    }
   },
   "source": [
    "import pandas as pd\n",
    "import numpy as np\n",
    "import matplotlib.pyplot as plt\n",
    "import seaborn as sns\n",
    "from datetime import datetime\n",
    "from AQS_API import AirQualityCollector"
   ],
   "outputs": [],
   "execution_count": 14
  },
  {
   "metadata": {},
   "cell_type": "markdown",
   "source": [
    "## Data Collection\n",
    "\n",
    "Before talking about the data source and collection process, we can talk about the date range that we're using for the analysis - March 23 - Sept 23 is what's defaulted in the API .py code and not sure if we want to change that, but can justify it here with hsitorical background (e.g. bad year for forest fires, etc.)."
   ],
   "id": "9356ebbf3391fb3"
  },
  {
   "metadata": {
    "ExecuteTime": {
     "end_time": "2025-02-07T10:10:07.563058Z",
     "start_time": "2025-02-07T10:10:07.560944Z"
    }
   },
   "cell_type": "code",
   "source": [
    "# Month Range of Interest in YYYYMM format\n",
    "start_date = datetime(2023, 3, 1)\n",
    "end_date = datetime(2023, 4, 1)"
   ],
   "id": "18377b91eb7eef1c",
   "outputs": [],
   "execution_count": 15
  },
  {
   "metadata": {},
   "cell_type": "markdown",
   "source": [
    "Background on EPA AQI data and API system for how we're pulling it.\n",
    "\n",
    "We'll check first to see if we already have a dataset downloaded before we go through the process of downloading it again."
   ],
   "id": "74971c93a8e6d42b"
  },
  {
   "metadata": {
    "ExecuteTime": {
     "end_time": "2025-02-07T10:11:01.394730Z",
     "start_time": "2025-02-07T10:10:32.033815Z"
    }
   },
   "cell_type": "code",
   "source": [
    "# Check if file already exists\n",
    "filename = (f\"../data/Colorado_AQI_{start_date.strftime('%Y%m')}_{end_date.strftime('%Y%m')}.csv\")\n",
    "if os.path.exists(filename):\n",
    "    print(f\"File {filename} already present.\")\n",
    "else:\n",
    "    # Hard-coding the API key here which we can fix later, just a quick band-aid for notebook purposes\n",
    "    API_KEY = \"544ED264-55E3-4422-94CA-406B625CFF54\"\n",
    "    collector = AirQualityCollector(api_key=API_KEY, start_date=start_date, end_date=end_date)\n",
    "    collector.collect_data()\n",
    "    print(f\"File {filename} downloaded.\")"
   ],
   "id": "87730f198bb8273a",
   "outputs": [
    {
     "name": "stdout",
     "output_type": "stream",
     "text": [
      "Data collection finished. Check air_quality_data.log for details.\n",
      "File ../data/Colorado_AQI_202303_202304.csv downloaded.\n"
     ]
    }
   ],
   "execution_count": 17
  },
  {
   "metadata": {},
   "cell_type": "markdown",
   "source": [
    "## Data Cleaning\n",
    "\n",
    "We can load the downloaded CSV into a dataframe and start poking around. We can see our"
   ],
   "id": "f73e808b6708450b"
  },
  {
   "metadata": {
    "ExecuteTime": {
     "end_time": "2025-02-07T10:10:18.217100300Z",
     "start_time": "2025-02-07T10:09:00.125598Z"
    }
   },
   "cell_type": "code",
   "source": [
    "df = pd.read_csv(filename)\n",
    "df.head()"
   ],
   "id": "448841b8c34d11e",
   "outputs": [
    {
     "data": {
      "text/plain": [
       "    Latitude   Longitude               UTC Parameter   Unit  Value  \\\n",
       "0  40.086941 -108.761002  2023-03-01T00:00     OZONE    PPB   44.0   \n",
       "1  40.086941 -108.761002  2023-03-01T00:00     PM2.5  UG/M3    2.3   \n",
       "2  37.200056 -108.733111  2023-03-01T00:00     OZONE    PPB   43.0   \n",
       "3  37.349970 -108.587370  2023-03-01T00:00     OZONE    PPB   36.0   \n",
       "4  39.063599 -108.561096  2023-03-01T00:00     PM2.5  UG/M3    1.6   \n",
       "\n",
       "   RawConcentration  AQI  Category                          SiteName  \\\n",
       "0              48.0   41         1                       Rangely, CO   \n",
       "1               4.0   13         1                       Rangely, CO   \n",
       "2              42.0   40         1                            Towaoc   \n",
       "3              38.0   33         1                      Cortez Ozone   \n",
       "4               1.6    9         1  Grand Junction - Powell Building   \n",
       "\n",
       "                                          AgencyName   FullAQSCode  \\\n",
       "0                              National Park Service     081030006   \n",
       "1                              National Park Service     081030006   \n",
       "2  Quality Review and Exchange System for Tribes ...  840080838001   \n",
       "3  Colorado Department of Public Health and Envir...     080830006   \n",
       "4  Colorado Department of Public Health and Envir...     080770017   \n",
       "\n",
       "    IntlAQSCode  \n",
       "0  840081030006  \n",
       "1  840081030006  \n",
       "2  840080838001  \n",
       "3  840080830006  \n",
       "4  840080770017  "
      ],
      "text/html": [
       "<div>\n",
       "<style scoped>\n",
       "    .dataframe tbody tr th:only-of-type {\n",
       "        vertical-align: middle;\n",
       "    }\n",
       "\n",
       "    .dataframe tbody tr th {\n",
       "        vertical-align: top;\n",
       "    }\n",
       "\n",
       "    .dataframe thead th {\n",
       "        text-align: right;\n",
       "    }\n",
       "</style>\n",
       "<table border=\"1\" class=\"dataframe\">\n",
       "  <thead>\n",
       "    <tr style=\"text-align: right;\">\n",
       "      <th></th>\n",
       "      <th>Latitude</th>\n",
       "      <th>Longitude</th>\n",
       "      <th>UTC</th>\n",
       "      <th>Parameter</th>\n",
       "      <th>Unit</th>\n",
       "      <th>Value</th>\n",
       "      <th>RawConcentration</th>\n",
       "      <th>AQI</th>\n",
       "      <th>Category</th>\n",
       "      <th>SiteName</th>\n",
       "      <th>AgencyName</th>\n",
       "      <th>FullAQSCode</th>\n",
       "      <th>IntlAQSCode</th>\n",
       "    </tr>\n",
       "  </thead>\n",
       "  <tbody>\n",
       "    <tr>\n",
       "      <th>0</th>\n",
       "      <td>40.086941</td>\n",
       "      <td>-108.761002</td>\n",
       "      <td>2023-03-01T00:00</td>\n",
       "      <td>OZONE</td>\n",
       "      <td>PPB</td>\n",
       "      <td>44.0</td>\n",
       "      <td>48.0</td>\n",
       "      <td>41</td>\n",
       "      <td>1</td>\n",
       "      <td>Rangely, CO</td>\n",
       "      <td>National Park Service</td>\n",
       "      <td>081030006</td>\n",
       "      <td>840081030006</td>\n",
       "    </tr>\n",
       "    <tr>\n",
       "      <th>1</th>\n",
       "      <td>40.086941</td>\n",
       "      <td>-108.761002</td>\n",
       "      <td>2023-03-01T00:00</td>\n",
       "      <td>PM2.5</td>\n",
       "      <td>UG/M3</td>\n",
       "      <td>2.3</td>\n",
       "      <td>4.0</td>\n",
       "      <td>13</td>\n",
       "      <td>1</td>\n",
       "      <td>Rangely, CO</td>\n",
       "      <td>National Park Service</td>\n",
       "      <td>081030006</td>\n",
       "      <td>840081030006</td>\n",
       "    </tr>\n",
       "    <tr>\n",
       "      <th>2</th>\n",
       "      <td>37.200056</td>\n",
       "      <td>-108.733111</td>\n",
       "      <td>2023-03-01T00:00</td>\n",
       "      <td>OZONE</td>\n",
       "      <td>PPB</td>\n",
       "      <td>43.0</td>\n",
       "      <td>42.0</td>\n",
       "      <td>40</td>\n",
       "      <td>1</td>\n",
       "      <td>Towaoc</td>\n",
       "      <td>Quality Review and Exchange System for Tribes ...</td>\n",
       "      <td>840080838001</td>\n",
       "      <td>840080838001</td>\n",
       "    </tr>\n",
       "    <tr>\n",
       "      <th>3</th>\n",
       "      <td>37.349970</td>\n",
       "      <td>-108.587370</td>\n",
       "      <td>2023-03-01T00:00</td>\n",
       "      <td>OZONE</td>\n",
       "      <td>PPB</td>\n",
       "      <td>36.0</td>\n",
       "      <td>38.0</td>\n",
       "      <td>33</td>\n",
       "      <td>1</td>\n",
       "      <td>Cortez Ozone</td>\n",
       "      <td>Colorado Department of Public Health and Envir...</td>\n",
       "      <td>080830006</td>\n",
       "      <td>840080830006</td>\n",
       "    </tr>\n",
       "    <tr>\n",
       "      <th>4</th>\n",
       "      <td>39.063599</td>\n",
       "      <td>-108.561096</td>\n",
       "      <td>2023-03-01T00:00</td>\n",
       "      <td>PM2.5</td>\n",
       "      <td>UG/M3</td>\n",
       "      <td>1.6</td>\n",
       "      <td>1.6</td>\n",
       "      <td>9</td>\n",
       "      <td>1</td>\n",
       "      <td>Grand Junction - Powell Building</td>\n",
       "      <td>Colorado Department of Public Health and Envir...</td>\n",
       "      <td>080770017</td>\n",
       "      <td>840080770017</td>\n",
       "    </tr>\n",
       "  </tbody>\n",
       "</table>\n",
       "</div>"
      ]
     },
     "execution_count": 11,
     "metadata": {},
     "output_type": "execute_result"
    }
   ],
   "execution_count": 11
  },
  {
   "metadata": {
    "ExecuteTime": {
     "end_time": "2025-02-07T10:10:18.231469900Z",
     "start_time": "2025-02-07T10:09:00.182248Z"
    }
   },
   "cell_type": "code",
   "source": [
    "# Check for missing values\n",
    "missing = df.isnull().sum()\n",
    "missing = missing[missing > 0]\n",
    "missing"
   ],
   "id": "da32edf772fabbe6",
   "outputs": [
    {
     "data": {
      "text/plain": [
       "Series([], dtype: int64)"
      ]
     },
     "execution_count": 12,
     "metadata": {},
     "output_type": "execute_result"
    }
   ],
   "execution_count": 12
  }
 ],
 "metadata": {
  "kernelspec": {
   "display_name": "Python 3",
   "language": "python",
   "name": "python3"
  },
  "language_info": {
   "codemirror_mode": {
    "name": "ipython",
    "version": 2
   },
   "file_extension": ".py",
   "mimetype": "text/x-python",
   "name": "python",
   "nbconvert_exporter": "python",
   "pygments_lexer": "ipython2",
   "version": "2.7.6"
  }
 },
 "nbformat": 4,
 "nbformat_minor": 5
}
